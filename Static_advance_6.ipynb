{
 "cells": [
  {
   "cell_type": "markdown",
   "id": "d5c26d2f",
   "metadata": {},
   "source": [
    "#Ans1.) \n",
    "\n",
    "Assumptions for ANOVA:\n",
    "\n",
    "Independence: Observations within each group are independent of each other.\n",
    "Normality: The dependent variable follows a normal distribution within each group.\n",
    "Homogeneity of variances: The variance of the dependent variable is equal across all groups.\n",
    "Examples of violations:\n",
    "\n",
    "Independence: Data collected from clustered or correlated groups may violate independence.\n",
    "Normality: Skewed or non-normally distributed data can violate this assumption.\n",
    "Homogeneity of variances: Unequal variances across groups can invalidate ANOVA results"
   ]
  },
  {
   "cell_type": "code",
   "execution_count": null,
   "id": "b54d516b",
   "metadata": {},
   "outputs": [],
   "source": []
  },
  {
   "cell_type": "markdown",
   "id": "3986b258",
   "metadata": {},
   "source": [
    "#Ans2.)\n",
    "\n",
    "Types of ANOVA:\n",
    "\n",
    "One-way ANOVA: Compares means across two or more independent groups.\n",
    "\n",
    "Two-way ANOVA: Examines the effects of two independent categorical variables on a dependent variable.\n",
    "\n",
    "N-way ANOVA: Generalizes to more than two independent variables"
   ]
  },
  {
   "cell_type": "code",
   "execution_count": null,
   "id": "642ae8fc",
   "metadata": {},
   "outputs": [],
   "source": []
  },
  {
   "cell_type": "markdown",
   "id": "f39ebf34",
   "metadata": {},
   "source": [
    "#Ans3.)\n",
    "\n",
    "Partitioning of variance:\n",
    "\n",
    "Total variance (SST) is partitioned into explained variance (SSE) and unexplained variance (SSR).\n",
    "Understanding this concept helps in determining how much of the variance in the dependent variable is explained by the independent variables"
   ]
  },
  {
   "cell_type": "code",
   "execution_count": null,
   "id": "0feb4a41",
   "metadata": {},
   "outputs": [],
   "source": []
  },
  {
   "cell_type": "code",
   "execution_count": 1,
   "id": "0fbdf2cf",
   "metadata": {},
   "outputs": [
    {
     "name": "stdout",
     "output_type": "stream",
     "text": [
      "SST: 12.0\n",
      "SSE: 6.0\n",
      "SSR: 6.0\n"
     ]
    }
   ],
   "source": [
    "#Ans4.)\n",
    "\n",
    "import numpy as np\n",
    "import scipy.stats as stats\n",
    "\n",
    "def one_way_anova(data):\n",
    "    # Calculate total sum of squares (SST)\n",
    "    overall_mean = np.mean(data)\n",
    "    sst = np.sum((data - overall_mean)**2)\n",
    "    \n",
    "    # Calculate explained sum of squares (SSE)\n",
    "    group_means = [np.mean(group) for group in data]\n",
    "    sse = sum([np.sum((group - group_mean)**2) for group, group_mean in zip(data, group_means)])\n",
    "    \n",
    "    # Calculate residual sum of squares (SSR)\n",
    "    ssr = sst - sse\n",
    "    \n",
    "    return sst, sse, ssr\n",
    "\n",
    "# Example usage\n",
    "data = [np.array([1, 2, 3]), np.array([2, 3, 4]), np.array([3, 4, 5])]\n",
    "sst, sse, ssr = one_way_anova(data)\n",
    "print(\"SST:\", sst)\n",
    "print(\"SSE:\", sse)\n",
    "print(\"SSR:\", ssr)\n"
   ]
  },
  {
   "cell_type": "code",
   "execution_count": null,
   "id": "67e400ec",
   "metadata": {},
   "outputs": [],
   "source": []
  },
  {
   "cell_type": "code",
   "execution_count": 2,
   "id": "cc41164c",
   "metadata": {},
   "outputs": [
    {
     "ename": "SyntaxError",
     "evalue": "invalid syntax (1069629552.py, line 7)",
     "output_type": "error",
     "traceback": [
      "\u001b[1;36m  Cell \u001b[1;32mIn[2], line 7\u001b[1;36m\u001b[0m\n\u001b[1;33m    data = # Your data in DataFrame format\u001b[0m\n\u001b[1;37m           ^\u001b[0m\n\u001b[1;31mSyntaxError\u001b[0m\u001b[1;31m:\u001b[0m invalid syntax\n"
     ]
    }
   ],
   "source": [
    "#Ans5.)\n",
    "\n",
    "import statsmodels.api as sm\n",
    "from statsmodels.formula.api import ols\n",
    "\n",
    "# Example data\n",
    "data = # Your data in DataFrame format\n",
    "\n",
    "# Fit two-way ANOVA model\n",
    "model = ols('dependent_variable ~ independent_variable_1 * independent_variable_2', data=data).fit()\n",
    "anova_table = sm.stats.anova_lm(model, typ=2)\n",
    "\n",
    "# Main effects\n",
    "main_effect_1 = anova_table.loc['independent_variable_1', 'sum_sq']\n",
    "main_effect_2 = anova_table.loc['independent_variable_2', 'sum_sq']\n",
    "\n",
    "# Interaction effect\n",
    "interaction_effect = anova_table.loc['independent_variable_1:independent_variable_2', 'sum_sq']\n",
    "\n",
    "print(\"Main effect 1:\", main_effect_1)\n",
    "print(\"Main effect 2:\", main_effect_2)\n",
    "print(\"Interaction effect:\", interaction_effect)\n"
   ]
  },
  {
   "cell_type": "code",
   "execution_count": null,
   "id": "33324e97",
   "metadata": {},
   "outputs": [],
   "source": []
  },
  {
   "cell_type": "markdown",
   "id": "9afbb67f",
   "metadata": {},
   "source": [
    "#Ans6.)\n",
    "\n",
    "Interpretation of one-way ANOVA results:\n",
    "\n",
    "With an F-statistic of 5.23 and a p-value of 0.02, we reject the null hypothesis.\n",
    "This suggests that there are significant differences between the groups.\n",
    "However, further post-hoc tests are needed to determine which specific groups differ from each other"
   ]
  },
  {
   "cell_type": "code",
   "execution_count": null,
   "id": "e127fa76",
   "metadata": {},
   "outputs": [],
   "source": []
  },
  {
   "cell_type": "markdown",
   "id": "a3542679",
   "metadata": {},
   "source": [
    "#Ans.7.)\n",
    "\n",
    "Handling missing data in repeated measures ANOVA:\n",
    "\n",
    "Common methods include imputation (e.g., mean imputation, regression imputation) or using statistical techniques that can handle missing data (e.g., mixed-effects models).\n",
    "Consequences of different methods include biased estimates, inflated standard errors, or reduced statistical power"
   ]
  },
  {
   "cell_type": "code",
   "execution_count": null,
   "id": "8228036e",
   "metadata": {},
   "outputs": [],
   "source": []
  },
  {
   "cell_type": "markdown",
   "id": "a2a7dca6",
   "metadata": {},
   "source": [
    "#Ans8.)\n",
    "\n",
    " Common post-hoc tests after ANOVA:\n",
    "\n",
    "Tukey's HSD (Honestly Significant Difference): Compares all possible pairs of means, controlling for family-wise error rate.\n",
    "Bonferroni correction: Adjusts significance levels to control for multiple comparisons.\n",
    "Scheffe's method: Applicable for any number of comparisons, but tends to be more conservative.\n",
    "Dunn's test: Non-parametric alternative suitable for non-normally distributed data.\n",
    "Example situation: After conducting ANOVA on the effects of different teaching methods on exam scores, significant differences are found. A post-hoc test like Tukey's HSD would be necessary to determine which specific teaching methods significantly differ from each other."
   ]
  },
  {
   "cell_type": "code",
   "execution_count": null,
   "id": "094753ae",
   "metadata": {},
   "outputs": [],
   "source": []
  },
  {
   "cell_type": "code",
   "execution_count": 3,
   "id": "018bd2ad",
   "metadata": {},
   "outputs": [
    {
     "name": "stdout",
     "output_type": "stream",
     "text": [
      "F-statistic: 483.11226611226573\n",
      "p-value: 7.752208638675557e-48\n"
     ]
    }
   ],
   "source": [
    "#Ans9.)\n",
    "\n",
    "import scipy.stats as stats\n",
    "\n",
    "# Sample data (mean weight loss for each diet)\n",
    "diet_A = [2.5, 3.0, 2.8, 2.9, 3.2, 2.6, 3.1, 2.7, 2.8, 2.9,\n",
    "          2.7, 3.2, 2.8, 3.0, 2.6, 3.1, 2.9, 2.7, 3.2, 2.8,\n",
    "          3.0, 2.6, 2.8, 2.7, 2.9, 2.8, 3.1, 2.5, 3.0, 2.9]\n",
    "diet_B = [3.5, 3.2, 3.6, 3.4, 3.7, 3.3, 3.5, 3.6, 3.4, 3.3,\n",
    "          3.7, 3.4, 3.6, 3.2, 3.5, 3.3, 3.6, 3.4, 3.5, 3.2,\n",
    "          3.4, 3.7, 3.5, 3.3, 3.6, 3.4, 3.2, 3.6, 3.5, 3.3]\n",
    "diet_C = [2.0, 2.1, 1.8, 2.2, 2.0, 2.3, 2.1, 1.9, 2.2, 2.0,\n",
    "          2.1, 1.8, 2.3, 2.0, 2.2, 2.1, 1.9, 2.3, 2.0, 2.2,\n",
    "          2.1, 1.8, 2.2, 2.0, 2.3, 2.1, 1.9, 2.2, 2.0, 2.1]\n",
    "\n",
    "# Perform one-way ANOVA\n",
    "f_statistic, p_value = stats.f_oneway(diet_A, diet_B, diet_C)\n",
    "\n",
    "print(\"F-statistic:\", f_statistic)\n",
    "print(\"p-value:\", p_value)\n"
   ]
  },
  {
   "cell_type": "markdown",
   "id": "cf229ff7",
   "metadata": {},
   "source": [
    "Interpretation: With a significant p-value (typically < 0.05), we reject the null hypothesis and conclude that there are significant differences between the mean weight loss of the three diets"
   ]
  },
  {
   "cell_type": "code",
   "execution_count": null,
   "id": "3b9fd29e",
   "metadata": {},
   "outputs": [],
   "source": []
  },
  {
   "cell_type": "code",
   "execution_count": 4,
   "id": "d33ed2bf",
   "metadata": {},
   "outputs": [
    {
     "ename": "SyntaxError",
     "evalue": "invalid syntax (742990514.py, line 8)",
     "output_type": "error",
     "traceback": [
      "\u001b[1;36m  Cell \u001b[1;32mIn[4], line 8\u001b[1;36m\u001b[0m\n\u001b[1;33m    data = # Your data in DataFrame format\u001b[0m\n\u001b[1;37m           ^\u001b[0m\n\u001b[1;31mSyntaxError\u001b[0m\u001b[1;31m:\u001b[0m invalid syntax\n"
     ]
    }
   ],
   "source": [
    "#Ans10.)\n",
    "\n",
    "import pandas as pd\n",
    "import statsmodels.api as sm\n",
    "from statsmodels.formula.api import ols\n",
    "\n",
    "# Sample data\n",
    "data = # Your data in DataFrame format\n",
    "\n",
    "# Fit two-way ANOVA model\n",
    "model = ols('completion_time ~ software_program * experience_level', data=data).fit()\n",
    "anova_table = sm.stats.anova_lm(model, typ=2)\n",
    "\n",
    "print(anova_table)\n"
   ]
  },
  {
   "cell_type": "markdown",
   "id": "6695536b",
   "metadata": {},
   "source": [
    "Interpretation: Look for significant p-values for main effects and interaction effects. For example, if the p-value for the software_program is significant, it indicates differences in completion time among software programs. Similarly, a significant interaction effect suggests that the effect of software programs on completion time depends on experience level."
   ]
  },
  {
   "cell_type": "code",
   "execution_count": null,
   "id": "8b9175f0",
   "metadata": {},
   "outputs": [],
   "source": []
  },
  {
   "cell_type": "code",
   "execution_count": 5,
   "id": "c6e20ca8",
   "metadata": {},
   "outputs": [
    {
     "ename": "SyntaxError",
     "evalue": "invalid syntax (528108171.py, line 5)",
     "output_type": "error",
     "traceback": [
      "\u001b[1;36m  Cell \u001b[1;32mIn[5], line 5\u001b[1;36m\u001b[0m\n\u001b[1;33m    control_scores = # Control group scores\u001b[0m\n\u001b[1;37m                     ^\u001b[0m\n\u001b[1;31mSyntaxError\u001b[0m\u001b[1;31m:\u001b[0m invalid syntax\n"
     ]
    }
   ],
   "source": [
    "#Ans11.)\n",
    "\n",
    "# Assuming data contains test scores for control and experimental groups\n",
    "\n",
    "control_scores = # Control group scores\n",
    "experimental_scores = # Experimental group scores\n",
    "\n",
    "t_statistic, p_value = stats.ttest_ind(control_scores, experimental_scores)\n",
    "\n",
    "print(\"t-statistic:\", t_statistic)\n",
    "print(\"p-value:\", p_value)\n"
   ]
  },
  {
   "cell_type": "markdown",
   "id": "766f9c0b",
   "metadata": {},
   "source": [
    "If the p-value is significant (typically < 0.05), there are significant differences in test scores between the two groups. For post-hoc tests, you can use Tukey's HSD or other appropriate methods to identify specific group differences"
   ]
  },
  {
   "cell_type": "code",
   "execution_count": null,
   "id": "bc8ac8c3",
   "metadata": {},
   "outputs": [],
   "source": []
  },
  {
   "cell_type": "code",
   "execution_count": 6,
   "id": "620e1128",
   "metadata": {},
   "outputs": [],
   "source": [
    "#Ans12.)\n",
    "\n",
    "# Assuming data contains daily sales for each store over 30 days\n",
    "\n",
    "# Perform repeated measures ANOVA\n",
    "# Followed by post-hoc tests if the results are significant\n"
   ]
  },
  {
   "cell_type": "markdown",
   "id": "00fb8eef",
   "metadata": {},
   "source": [
    "For repeated measures ANOVA and post-hoc tests, we can use libraries like pingouin or statsmodels. This will help determine if there are significant differences in sales between the three stores and identify which store(s) differ significantly from each other"
   ]
  },
  {
   "cell_type": "code",
   "execution_count": null,
   "id": "52d4ee21",
   "metadata": {},
   "outputs": [],
   "source": []
  }
 ],
 "metadata": {
  "kernelspec": {
   "display_name": "Python 3 (ipykernel)",
   "language": "python",
   "name": "python3"
  },
  "language_info": {
   "codemirror_mode": {
    "name": "ipython",
    "version": 3
   },
   "file_extension": ".py",
   "mimetype": "text/x-python",
   "name": "python",
   "nbconvert_exporter": "python",
   "pygments_lexer": "ipython3",
   "version": "3.11.4"
  }
 },
 "nbformat": 4,
 "nbformat_minor": 5
}
